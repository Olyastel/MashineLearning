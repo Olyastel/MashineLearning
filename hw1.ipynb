{
 "cells": [
  {
   "cell_type": "code",
   "execution_count": null,
   "id": "26462431",
   "metadata": {},
   "outputs": [],
   "source": [
    "import pandas as pd\n",
    "import numpy as np\n",
    "import matplotlib.pyplot as plt\n",
    "from IPython.display import display\n",
    "\n",
    "pd.set_option('display.max_columns', None)\n",
    "plt.style.use('ggplot')"
   ]
  },
  {
   "cell_type": "code",
   "execution_count": null,
   "id": "3e620c77",
   "metadata": {},
   "outputs": [],
   "source": [
    "df = pd.read_csv('Датасет №1_Airline Passenger Satisfaction_mod.csv', parse_dates=['Date'])\n",
    "print(\"Размер датасета:\", df.shape)\n",
    "display(df.head(2))"
   ]
  },
  {
   "cell_type": "code",
   "execution_count": null,
   "id": "a2944e93",
   "metadata": {},
   "outputs": [],
   "source": [
    "display(df.info())\n",
    "missing = df.isna().sum().sort_values(ascending=False)\n",
    "missing = missing[missing > 0]\n",
    "print(\"\\nПропущенные значения:\")\n",
    "display(missing)"
   ]
  },
  {
   "cell_type": "code",
   "execution_count": null,
   "id": "b0f3c599",
   "metadata": {},
   "outputs": [],
   "source": [
    "df['satisfaction'] = df['satisfaction'].map({'satisfied': 1, 'neutral or dissatisfied': 0})\n",
    "plt.figure(figsize=(8, 5))\n",
    "plt.bar(['Неудовлетворены', 'Удовлетворены'], \n",
    "        df['satisfaction'].value_counts().sort_index(),\n",
    "        color=['lightcoral', 'lightgreen'])\n",
    "plt.title('Распределение удовлетворенности пассажиров')\n",
    "plt.ylabel('Количество')\n",
    "plt.show()\n",
    "\n",
    "print(\"\\nПроцентное соотношение:\")\n",
    "display(df['satisfaction'].value_counts(normalize=True).mul(100).round(1))"
   ]
  },
  {
   "cell_type": "code",
   "execution_count": null,
   "id": "3c886eca",
   "metadata": {},
   "outputs": [],
   "source": [
    "service_cols = [col for col in df.columns if 'service' in col.lower() \n",
    "                or 'comfort' in col.lower() \n",
    "                or 'food' in col.lower()\n",
    "                or 'wifi' in col.lower()]\n",
    "print(\"Колонки с оценками сервисов:\")\n",
    "display(service_cols)"
   ]
  },
  {
   "cell_type": "code",
   "execution_count": null,
   "id": "cca5e089",
   "metadata": {},
   "outputs": [],
   "source": [
    "high_ratings_low_satisfaction = df[\n",
    "    (df[service_cols].mean(axis=1) > 4) & \n",
    "    (df['satisfaction'] == 0)\n",
    "]\n",
    "\n",
    "print(\"\\nКоличество случаев с высокими оценками, но низкой удовлетворенностью:\", \n",
    "      len(high_ratings_low_satisfaction))\n",
    "\n",
    "if not high_ratings_low_satisfaction.empty:\n",
    "    print(\"\\nПримеры таких случаев:\")\n",
    "    display(high_ratings_low_satisfaction.sample(3))"
   ]
  },
  {
   "cell_type": "code",
   "execution_count": null,
   "id": "3a22a012",
   "metadata": {},
   "outputs": [],
   "source": [
    "plt.figure(figsize=(12, 6))\n",
    "plt.boxplot([df[col] for col in service_cols], labels=service_cols)\n",
    "plt.title('Распределение оценок сервисов')\n",
    "plt.xticks(rotation=90)\n",
    "plt.tight_layout()\n",
    "plt.show()"
   ]
  },
  {
   "cell_type": "code",
   "execution_count": null,
   "id": "63156d5a",
   "metadata": {},
   "outputs": [],
   "source": [
    "df['Average Service Rating'] = df[service_cols].mean(axis=1)\n",
    "df['Service Rating Std'] = df[service_cols].std(axis=1)\n",
    "\n",
    "print(\"\\nНовые признаки:\")\n",
    "display(df[['Average Service Rating', 'Service Rating Std']].describe())"
   ]
  },
  {
   "cell_type": "code",
   "execution_count": null,
   "id": "d5ba94e5",
   "metadata": {},
   "outputs": [],
   "source": [
    "cat_cols = ['Gender', 'Customer Type', 'Type of Travel', 'Class']\n",
    "\n",
    "plt.figure(figsize=(15, 10))\n",
    "for i, col in enumerate(cat_cols, 1):\n",
    "    plt.subplot(2, 2, i)\n",
    "    counts = df.groupby([col, 'satisfaction']).size().unstack()\n",
    "    counts.plot(kind='bar', stacked=True, ax=plt.gca(),\n",
    "               color=['lightcoral', 'lightgreen'])\n",
    "    plt.title(f'Удовлетворенность по {col}')\n",
    "    plt.xticks(rotation=45)\n",
    "plt.tight_layout()\n",
    "plt.show()"
   ]
  },
  {
   "cell_type": "code",
   "execution_count": null,
   "id": "ced2ea32",
   "metadata": {},
   "outputs": [],
   "source": [
    "corr = df.corr(numeric_only=True)\n",
    "\n",
    "plt.figure(figsize=(12, 10))\n",
    "plt.imshow(corr, cmap='coolwarm', interpolation='none')\n",
    "plt.colorbar()\n",
    "plt.xticks(range(len(corr.columns)), corr.columns, rotation=90)\n",
    "plt.yticks(range(len(corr.columns)), corr.columns)\n",
    "plt.title('Матрица корреляций')\n",
    "plt.show()"
   ]
  }
 ],
 "metadata": {
  "language_info": {
   "name": "python"
  }
 },
 "nbformat": 4,
 "nbformat_minor": 5
}
